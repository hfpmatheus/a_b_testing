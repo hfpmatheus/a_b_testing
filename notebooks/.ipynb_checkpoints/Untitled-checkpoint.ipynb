{
 "cells": [
  {
   "cell_type": "markdown",
   "id": "8109c8a2",
   "metadata": {},
   "source": [
    "# 0.0. IMPORTS"
   ]
  },
  {
   "cell_type": "code",
   "execution_count": 1,
   "id": "756fe7d1",
   "metadata": {
    "ExecuteTime": {
     "end_time": "2022-06-10T10:10:23.403850Z",
     "start_time": "2022-06-10T10:10:21.254277Z"
    }
   },
   "outputs": [],
   "source": [
    "import numpy                 as np \n",
    "import pandas                as pd\n",
    "import scipy.stats           as stats\n",
    "import statsmodels.stats.api as sms\n",
    "import matplotlib            as mpl\n",
    "import matplotlib.pyplot     as plt\n",
    "import seaborn               as sns\n",
    "\n",
    "from math                         import ceil\n",
    "from statsmodels.stats.proportion import proportions_ztest, proportion_confint"
   ]
  },
  {
   "cell_type": "code",
   "execution_count": 2,
   "id": "fe16bd64",
   "metadata": {
    "ExecuteTime": {
     "end_time": "2022-06-10T10:10:23.500662Z",
     "start_time": "2022-06-10T10:10:23.411022Z"
    }
   },
   "outputs": [],
   "source": [
    "%matplotlib inline\n",
    "\n",
    "# Some plot styling preferences\n",
    "plt.style.use('seaborn-whitegrid')\n",
    "font = {'family' : 'Helvetica',\n",
    "        'weight' : 'bold',\n",
    "        'size'   : 14}\n",
    "\n",
    "mpl.rc('font', **font)"
   ]
  },
  {
   "cell_type": "markdown",
   "id": "a9a19fd4",
   "metadata": {},
   "source": [
    "## 0.1. Aux Functions"
   ]
  },
  {
   "cell_type": "code",
   "execution_count": null,
   "id": "00151345",
   "metadata": {},
   "outputs": [],
   "source": []
  },
  {
   "cell_type": "markdown",
   "id": "2b77d62a",
   "metadata": {},
   "source": [
    "## 0.2. Reading Datasets"
   ]
  },
  {
   "cell_type": "code",
   "execution_count": 3,
   "id": "a0bc6068",
   "metadata": {
    "ExecuteTime": {
     "end_time": "2022-06-10T10:10:23.829303Z",
     "start_time": "2022-06-10T10:10:23.503757Z"
    }
   },
   "outputs": [],
   "source": [
    "df = pd.read_csv( \"../datasets/ab_data.csv\")"
   ]
  },
  {
   "cell_type": "markdown",
   "id": "c8835dc8",
   "metadata": {},
   "source": [
    "# 1.0. Power Analysis"
   ]
  },
  {
   "cell_type": "code",
   "execution_count": 39,
   "id": "cce26d62",
   "metadata": {
    "ExecuteTime": {
     "end_time": "2022-06-10T10:20:42.891118Z",
     "start_time": "2022-06-10T10:20:42.863270Z"
    }
   },
   "outputs": [
    {
     "name": "stdout",
     "output_type": "stream",
     "text": [
      "10712 observations are required for each group.\n"
     ]
    }
   ],
   "source": [
    "effect_size = sms.proportion_effectsize(0.13, 0.15)    # Calculating effect size based on our expected rates\n",
    "\n",
    "required_n = sms.NormalIndPower().solve_power(\n",
    "    effect_size, \n",
    "    power=0.8, \n",
    "    alpha=0.01, \n",
    "    ratio=1\n",
    "    )                                                  # Calculating sample size needed\n",
    "\n",
    "required_n = ceil(required_n)                          # Rounding up to next whole number                          \n",
    "\n",
    "print( f\"{required_n} observations are required for each group.\" )"
   ]
  },
  {
   "cell_type": "markdown",
   "id": "4c785840",
   "metadata": {},
   "source": [
    "# 2.0. Data Cleaning"
   ]
  },
  {
   "cell_type": "markdown",
   "id": "a35c945c",
   "metadata": {},
   "source": [
    "## 2.1. Data Description"
   ]
  },
  {
   "cell_type": "code",
   "execution_count": 40,
   "id": "44eaf910",
   "metadata": {
    "ExecuteTime": {
     "end_time": "2022-06-10T10:20:52.074054Z",
     "start_time": "2022-06-10T10:20:51.842585Z"
    }
   },
   "outputs": [
    {
     "name": "stdout",
     "output_type": "stream",
     "text": [
      "<class 'pandas.core.frame.DataFrame'>\n",
      "Int64Index: 286690 entries, 0 to 294477\n",
      "Data columns (total 5 columns):\n",
      " #   Column        Non-Null Count   Dtype \n",
      "---  ------        --------------   ----- \n",
      " 0   user_id       286690 non-null  int64 \n",
      " 1   timestamp     286690 non-null  object\n",
      " 2   group         286690 non-null  object\n",
      " 3   landing_page  286690 non-null  object\n",
      " 4   converted     286690 non-null  int64 \n",
      "dtypes: int64(2), object(3)\n",
      "memory usage: 13.1+ MB\n"
     ]
    }
   ],
   "source": [
    "df.info()"
   ]
  },
  {
   "cell_type": "code",
   "execution_count": 41,
   "id": "677b2515",
   "metadata": {
    "ExecuteTime": {
     "end_time": "2022-06-10T10:20:52.328561Z",
     "start_time": "2022-06-10T10:20:52.310599Z"
    }
   },
   "outputs": [
    {
     "data": {
      "text/html": [
       "<div>\n",
       "<style scoped>\n",
       "    .dataframe tbody tr th:only-of-type {\n",
       "        vertical-align: middle;\n",
       "    }\n",
       "\n",
       "    .dataframe tbody tr th {\n",
       "        vertical-align: top;\n",
       "    }\n",
       "\n",
       "    .dataframe thead th {\n",
       "        text-align: right;\n",
       "    }\n",
       "</style>\n",
       "<table border=\"1\" class=\"dataframe\">\n",
       "  <thead>\n",
       "    <tr style=\"text-align: right;\">\n",
       "      <th></th>\n",
       "      <th>user_id</th>\n",
       "      <th>timestamp</th>\n",
       "      <th>group</th>\n",
       "      <th>landing_page</th>\n",
       "      <th>converted</th>\n",
       "    </tr>\n",
       "  </thead>\n",
       "  <tbody>\n",
       "    <tr>\n",
       "      <th>0</th>\n",
       "      <td>851104</td>\n",
       "      <td>2017-01-21 22:11:48.556739</td>\n",
       "      <td>control</td>\n",
       "      <td>old_page</td>\n",
       "      <td>0</td>\n",
       "    </tr>\n",
       "    <tr>\n",
       "      <th>1</th>\n",
       "      <td>804228</td>\n",
       "      <td>2017-01-12 08:01:45.159739</td>\n",
       "      <td>control</td>\n",
       "      <td>old_page</td>\n",
       "      <td>0</td>\n",
       "    </tr>\n",
       "    <tr>\n",
       "      <th>2</th>\n",
       "      <td>661590</td>\n",
       "      <td>2017-01-11 16:55:06.154213</td>\n",
       "      <td>treatment</td>\n",
       "      <td>new_page</td>\n",
       "      <td>0</td>\n",
       "    </tr>\n",
       "    <tr>\n",
       "      <th>3</th>\n",
       "      <td>853541</td>\n",
       "      <td>2017-01-08 18:28:03.143765</td>\n",
       "      <td>treatment</td>\n",
       "      <td>new_page</td>\n",
       "      <td>0</td>\n",
       "    </tr>\n",
       "    <tr>\n",
       "      <th>4</th>\n",
       "      <td>864975</td>\n",
       "      <td>2017-01-21 01:52:26.210827</td>\n",
       "      <td>control</td>\n",
       "      <td>old_page</td>\n",
       "      <td>1</td>\n",
       "    </tr>\n",
       "  </tbody>\n",
       "</table>\n",
       "</div>"
      ],
      "text/plain": [
       "   user_id                   timestamp      group landing_page  converted\n",
       "0   851104  2017-01-21 22:11:48.556739    control     old_page          0\n",
       "1   804228  2017-01-12 08:01:45.159739    control     old_page          0\n",
       "2   661590  2017-01-11 16:55:06.154213  treatment     new_page          0\n",
       "3   853541  2017-01-08 18:28:03.143765  treatment     new_page          0\n",
       "4   864975  2017-01-21 01:52:26.210827    control     old_page          1"
      ]
     },
     "execution_count": 41,
     "metadata": {},
     "output_type": "execute_result"
    }
   ],
   "source": [
    "df.head()"
   ]
  },
  {
   "cell_type": "markdown",
   "id": "19ffb284",
   "metadata": {},
   "source": [
    "## 2.2. Data Cleaning"
   ]
  },
  {
   "cell_type": "code",
   "execution_count": 42,
   "id": "44aed03b",
   "metadata": {
    "ExecuteTime": {
     "end_time": "2022-06-10T10:20:53.501113Z",
     "start_time": "2022-06-10T10:20:53.376837Z"
    }
   },
   "outputs": [
    {
     "data": {
      "text/html": [
       "<div>\n",
       "<style scoped>\n",
       "    .dataframe tbody tr th:only-of-type {\n",
       "        vertical-align: middle;\n",
       "    }\n",
       "\n",
       "    .dataframe tbody tr th {\n",
       "        vertical-align: top;\n",
       "    }\n",
       "\n",
       "    .dataframe thead th {\n",
       "        text-align: right;\n",
       "    }\n",
       "</style>\n",
       "<table border=\"1\" class=\"dataframe\">\n",
       "  <thead>\n",
       "    <tr style=\"text-align: right;\">\n",
       "      <th>landing_page</th>\n",
       "      <th>new_page</th>\n",
       "      <th>old_page</th>\n",
       "    </tr>\n",
       "    <tr>\n",
       "      <th>group</th>\n",
       "      <th></th>\n",
       "      <th></th>\n",
       "    </tr>\n",
       "  </thead>\n",
       "  <tbody>\n",
       "    <tr>\n",
       "      <th>control</th>\n",
       "      <td>0</td>\n",
       "      <td>143293</td>\n",
       "    </tr>\n",
       "    <tr>\n",
       "      <th>treatment</th>\n",
       "      <td>143397</td>\n",
       "      <td>0</td>\n",
       "    </tr>\n",
       "  </tbody>\n",
       "</table>\n",
       "</div>"
      ],
      "text/plain": [
       "landing_page  new_page  old_page\n",
       "group                           \n",
       "control              0    143293\n",
       "treatment       143397         0"
      ]
     },
     "execution_count": 42,
     "metadata": {},
     "output_type": "execute_result"
    }
   ],
   "source": [
    "pd.crosstab( df['group'], df['landing_page'] ) # checking if there are users from a group seeing more than one page"
   ]
  },
  {
   "cell_type": "code",
   "execution_count": 43,
   "id": "2459a611",
   "metadata": {
    "ExecuteTime": {
     "end_time": "2022-06-10T10:20:54.125538Z",
     "start_time": "2022-06-10T10:20:54.073508Z"
    }
   },
   "outputs": [
    {
     "name": "stdout",
     "output_type": "stream",
     "text": [
      "There are 0 users that appear multiple times in the dataset\n"
     ]
    }
   ],
   "source": [
    "session_counts = df['user_id'].value_counts(ascending=False)\n",
    "multi_users = session_counts[session_counts > 1].count()\n",
    "\n",
    "print(f'There are {multi_users} users that appear multiple times in the dataset')"
   ]
  },
  {
   "cell_type": "code",
   "execution_count": 44,
   "id": "53d4788d",
   "metadata": {
    "ExecuteTime": {
     "end_time": "2022-06-10T10:20:54.715912Z",
     "start_time": "2022-06-10T10:20:54.673181Z"
    }
   },
   "outputs": [],
   "source": [
    "# dropping multi users to not have people on both groups\n",
    "multi_users_list = session_counts[session_counts > 1 ].index\n",
    "df = df[~df['user_id'].isin( multi_users_list )]"
   ]
  },
  {
   "cell_type": "code",
   "execution_count": 45,
   "id": "d1710305",
   "metadata": {
    "ExecuteTime": {
     "end_time": "2022-06-10T10:20:55.259715Z",
     "start_time": "2022-06-10T10:20:55.130949Z"
    }
   },
   "outputs": [
    {
     "data": {
      "text/html": [
       "<div>\n",
       "<style scoped>\n",
       "    .dataframe tbody tr th:only-of-type {\n",
       "        vertical-align: middle;\n",
       "    }\n",
       "\n",
       "    .dataframe tbody tr th {\n",
       "        vertical-align: top;\n",
       "    }\n",
       "\n",
       "    .dataframe thead th {\n",
       "        text-align: right;\n",
       "    }\n",
       "</style>\n",
       "<table border=\"1\" class=\"dataframe\">\n",
       "  <thead>\n",
       "    <tr style=\"text-align: right;\">\n",
       "      <th>landing_page</th>\n",
       "      <th>new_page</th>\n",
       "      <th>old_page</th>\n",
       "    </tr>\n",
       "    <tr>\n",
       "      <th>group</th>\n",
       "      <th></th>\n",
       "      <th></th>\n",
       "    </tr>\n",
       "  </thead>\n",
       "  <tbody>\n",
       "    <tr>\n",
       "      <th>control</th>\n",
       "      <td>0</td>\n",
       "      <td>143293</td>\n",
       "    </tr>\n",
       "    <tr>\n",
       "      <th>treatment</th>\n",
       "      <td>143397</td>\n",
       "      <td>0</td>\n",
       "    </tr>\n",
       "  </tbody>\n",
       "</table>\n",
       "</div>"
      ],
      "text/plain": [
       "landing_page  new_page  old_page\n",
       "group                           \n",
       "control              0    143293\n",
       "treatment       143397         0"
      ]
     },
     "execution_count": 45,
     "metadata": {},
     "output_type": "execute_result"
    }
   ],
   "source": [
    "pd.crosstab( df['group'], df['landing_page'] ) # Now, there aren't users duplicated"
   ]
  },
  {
   "cell_type": "markdown",
   "id": "251f1f25",
   "metadata": {},
   "source": [
    "## 2.3. Sampling Data"
   ]
  },
  {
   "cell_type": "code",
   "execution_count": 46,
   "id": "6bc61ac8",
   "metadata": {
    "ExecuteTime": {
     "end_time": "2022-06-10T10:20:56.176375Z",
     "start_time": "2022-06-10T10:20:56.042503Z"
    }
   },
   "outputs": [],
   "source": [
    "control_group = df[df['group'] == \"control\" ].sample( n=required_n, random_state=22 )\n",
    "treatment_group = df[df['group'] == \"treatment\" ].sample( n=required_n, random_state=22 )\n",
    "\n",
    "df_sampled = pd.concat( [control_group, treatment_group], axis=0 )\n",
    "df_sampled.reset_index( drop=True, inplace=True )"
   ]
  },
  {
   "cell_type": "code",
   "execution_count": 47,
   "id": "9bbc7dfe",
   "metadata": {
    "ExecuteTime": {
     "end_time": "2022-06-10T10:20:56.660478Z",
     "start_time": "2022-06-10T10:20:56.524559Z"
    }
   },
   "outputs": [
    {
     "data": {
      "text/html": [
       "<style type=\"text/css\">\n",
       "</style>\n",
       "<table id=\"T_412d6\">\n",
       "  <thead>\n",
       "    <tr>\n",
       "      <th class=\"blank level0\" >&nbsp;</th>\n",
       "      <th id=\"T_412d6_level0_col0\" class=\"col_heading level0 col0\" >control</th>\n",
       "      <th id=\"T_412d6_level0_col1\" class=\"col_heading level0 col1\" >treatment</th>\n",
       "    </tr>\n",
       "  </thead>\n",
       "  <tbody>\n",
       "    <tr>\n",
       "      <th id=\"T_412d6_level0_row0\" class=\"row_heading level0 row0\" >population</th>\n",
       "      <td id=\"T_412d6_row0_col0\" class=\"data row0 col0\" >0.120</td>\n",
       "      <td id=\"T_412d6_row0_col1\" class=\"data row0 col1\" >0.119</td>\n",
       "    </tr>\n",
       "    <tr>\n",
       "      <th id=\"T_412d6_level0_row1\" class=\"row_heading level0 row1\" >sample</th>\n",
       "      <td id=\"T_412d6_row1_col0\" class=\"data row1 col0\" >0.124</td>\n",
       "      <td id=\"T_412d6_row1_col1\" class=\"data row1 col1\" >0.121</td>\n",
       "    </tr>\n",
       "  </tbody>\n",
       "</table>\n"
      ],
      "text/plain": [
       "<pandas.io.formats.style.Styler at 0x209f68f4a00>"
      ]
     },
     "execution_count": 47,
     "metadata": {},
     "output_type": "execute_result"
    }
   ],
   "source": [
    "# Population and sample conversion rates\n",
    "\n",
    "population_control_conversion = df[df['group'] == \"control\"][\"converted\"].mean()\n",
    "population_treatment_conversion = df[df['group'] == \"treatment\"][\"converted\"].mean()\n",
    "sample_control_conversion = df_sampled[df_sampled['group'] == \"control\"][\"converted\"].mean()\n",
    "sample_treatment_conversion = df_sampled[df_sampled['group'] == \"treatment\"][\"converted\"].mean()\n",
    "\n",
    "data = { 'control': [population_control_conversion, sample_control_conversion],\n",
    "         'treatment': [population_treatment_conversion, sample_treatment_conversion] }\n",
    "\n",
    "conversion_df = pd.DataFrame( data, index=['population','sample'] )\n",
    "conversion_df.style.format('{:.3f}')"
   ]
  },
  {
   "cell_type": "markdown",
   "id": "3327f856",
   "metadata": {},
   "source": [
    "## 3.0. Testing the Hypotesis"
   ]
  },
  {
   "cell_type": "code",
   "execution_count": 48,
   "id": "bfc5e36c",
   "metadata": {
    "ExecuteTime": {
     "end_time": "2022-06-10T10:20:58.403115Z",
     "start_time": "2022-06-10T10:20:58.376021Z"
    }
   },
   "outputs": [],
   "source": [
    "control_results = df_sampled[df_sampled['group'] == 'control']['converted']\n",
    "treatment_results = df_sampled[df_sampled['group'] == 'treatment']['converted']"
   ]
  },
  {
   "cell_type": "code",
   "execution_count": 49,
   "id": "3f1af38d",
   "metadata": {
    "ExecuteTime": {
     "end_time": "2022-06-10T10:20:59.032910Z",
     "start_time": "2022-06-10T10:20:59.006447Z"
    }
   },
   "outputs": [],
   "source": [
    "n_con = control_results.count()\n",
    "n_treat = treatment_results.count()\n",
    "successes = [control_results.sum(), treatment_results.sum()]\n",
    "nobs = [n_con, n_treat]"
   ]
  },
  {
   "cell_type": "code",
   "execution_count": 50,
   "id": "3f86e1b2",
   "metadata": {
    "ExecuteTime": {
     "end_time": "2022-06-10T10:20:59.526530Z",
     "start_time": "2022-06-10T10:20:59.516788Z"
    }
   },
   "outputs": [
    {
     "name": "stdout",
     "output_type": "stream",
     "text": [
      "z statistic: 0.56\n",
      "p-value: 0.573\n",
      "ci 95% for control group: [0.117, 0.130]\n",
      "ci 95% for treatment group: [0.115, 0.127]\n"
     ]
    }
   ],
   "source": [
    "z_stat, pval = proportions_ztest(successes, nobs=nobs)\n",
    "(lower_con, lower_treat), (upper_con, upper_treat) = proportion_confint(successes, nobs=nobs, alpha=0.05)\n",
    "\n",
    "print(f'z statistic: {z_stat:.2f}')\n",
    "print(f'p-value: {pval:.3f}')\n",
    "print(f'ci 95% for control group: [{lower_con:.3f}, {upper_con:.3f}]')\n",
    "print(f'ci 95% for treatment group: [{lower_treat:.3f}, {upper_treat:.3f}]')"
   ]
  },
  {
   "cell_type": "markdown",
   "id": "c5562db3",
   "metadata": {},
   "source": [
    "Since our p-value=0.732 is way above our α=0.05 threshold, we cannot reject the Null hypothesis Hₒ, which means that our new design did not perform significantly different (let alone better) than our old one"
   ]
  }
 ],
 "metadata": {
  "kernelspec": {
   "display_name": "Python 3 (ipykernel)",
   "language": "python",
   "name": "python3"
  },
  "language_info": {
   "codemirror_mode": {
    "name": "ipython",
    "version": 3
   },
   "file_extension": ".py",
   "mimetype": "text/x-python",
   "name": "python",
   "nbconvert_exporter": "python",
   "pygments_lexer": "ipython3",
   "version": "3.8.13"
  }
 },
 "nbformat": 4,
 "nbformat_minor": 5
}
